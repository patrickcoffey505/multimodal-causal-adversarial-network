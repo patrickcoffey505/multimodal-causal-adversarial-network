{
 "cells": [
  {
   "cell_type": "code",
   "execution_count": 1,
   "metadata": {},
   "outputs": [
    {
     "name": "stderr",
     "output_type": "stream",
     "text": [
      "\u001b[32m2025-03-24 22:46:29.785\u001b[0m | \u001b[1mINFO    \u001b[0m | \u001b[36mmultimodal_causal_adversarial_network.config\u001b[0m:\u001b[36m<module>\u001b[0m:\u001b[36m11\u001b[0m - \u001b[1mPROJ_ROOT path is: /Users/pcoffey/Dev/school/Capstone/multimodal-causal-adversarial-network\u001b[0m\n"
     ]
    },
    {
     "name": "stdout",
     "output_type": "stream",
     "text": [
      "\u001b[32m2025-03-24 22:46:48.441\u001b[0m | \u001b[1mINFO    \u001b[0m | \u001b[36mmultimodal_causal_adversarial_network.dataset\u001b[0m:\u001b[36m__init__\u001b[0m:\u001b[36m121\u001b[0m - \u001b[1mFound 7198 valid trials across 40 runs\n",
      "Skipped 0 invalid trials\u001b[0m\n",
      "\n",
      "Trial 1:\n",
      "fMRI shape: (6, 12)\n",
      "EEG shape: (34, 12)\n",
      "fMRI range: [-1.169, 0.897]\n",
      "EEG range: [-5.110, 3.211]\n",
      "NaN in fMRI: False\n",
      "NaN in EEG: False\n",
      "\n",
      "Trial 2:\n",
      "fMRI shape: (6, 12)\n",
      "EEG shape: (34, 12)\n",
      "fMRI range: [-1.317, 3.679]\n",
      "EEG range: [-2.447, 2.237]\n",
      "NaN in fMRI: False\n",
      "NaN in EEG: False\n",
      "\n",
      "Trial 3:\n",
      "fMRI shape: (6, 12)\n",
      "EEG shape: (34, 12)\n",
      "fMRI range: [-1.441, 0.410]\n",
      "EEG range: [-1.463, 1.935]\n",
      "NaN in fMRI: False\n",
      "NaN in EEG: False\n"
     ]
    },
    {
     "name": "stderr",
     "output_type": "stream",
     "text": [
      "2025-03-24 22:46:48.535935: I tensorflow/core/framework/local_rendezvous.cc:405] Local rendezvous is aborting with status: OUT_OF_RANGE: End of sequence\n"
     ]
    }
   ],
   "source": [
    "from multimodal_causal_adversarial_network.dataset import BrainDataset\n",
    "from multimodal_causal_adversarial_network.config import DATA_DIR\n",
    "import tensorflow as tf\n",
    "\n",
    "# Initialize dataset\n",
    "brain_dataset = BrainDataset(data_dir=DATA_DIR)\n",
    "dataset = brain_dataset.get_dataset()\n",
    "\n",
    "# Test first few trials\n",
    "for i, (fmri, eeg) in enumerate(dataset.take(3)):\n",
    "    print(f\"\\nTrial {i+1}:\")\n",
    "    print(f\"fMRI shape: {fmri.shape}\")\n",
    "    print(f\"EEG shape: {eeg.shape}\")\n",
    "    \n",
    "    # Basic data validation\n",
    "    print(f\"fMRI range: [{fmri.numpy().min():.3f}, {fmri.numpy().max():.3f}]\")\n",
    "    print(f\"EEG range: [{eeg.numpy().min():.3f}, {eeg.numpy().max():.3f}]\")\n",
    "    \n",
    "    # Check for NaN values\n",
    "    print(f\"NaN in fMRI: {tf.math.reduce_any(tf.math.is_nan(fmri))}\")\n",
    "    print(f\"NaN in EEG: {tf.math.reduce_any(tf.math.is_nan(eeg))}\")"
   ]
  }
 ],
 "metadata": {
  "kernelspec": {
   "display_name": "multimodal-causal-adversarial-network",
   "language": "python",
   "name": "python3"
  },
  "language_info": {
   "codemirror_mode": {
    "name": "ipython",
    "version": 3
   },
   "file_extension": ".py",
   "mimetype": "text/x-python",
   "name": "python",
   "nbconvert_exporter": "python",
   "pygments_lexer": "ipython3",
   "version": "3.12.9"
  }
 },
 "nbformat": 4,
 "nbformat_minor": 2
}
